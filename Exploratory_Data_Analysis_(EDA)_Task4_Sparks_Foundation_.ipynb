{
  "nbformat": 4,
  "nbformat_minor": 0,
  "metadata": {
    "colab": {
      "name": "Exploratory Data Analysis (EDA) Task4 : Sparks Foundation .ipynb",
      "provenance": [],
      "collapsed_sections": [],
      "authorship_tag": "ABX9TyPa3at96qIzfOJnjdgUiuAc",
      "include_colab_link": true
    },
    "kernelspec": {
      "name": "python3",
      "display_name": "Python 3"
    },
    "language_info": {
      "name": "python"
    }
  },
  "cells": [
    {
      "cell_type": "markdown",
      "metadata": {
        "id": "view-in-github",
        "colab_type": "text"
      },
      "source": [
        "<a href=\"https://colab.research.google.com/github/mariamloukili/Exploratory-Data-Analysis-EDA-Task4-Sparks-Foundation/blob/main/Exploratory_Data_Analysis_(EDA)_Task4_Sparks_Foundation_.ipynb\" target=\"_parent\"><img src=\"https://colab.research.google.com/assets/colab-badge.svg\" alt=\"Open In Colab\"/></a>"
      ]
    },
    {
      "cell_type": "markdown",
      "source": [
        "## **Exploratory Data Analysis - Global Terrorism**\n",
        "\n",
        "In this section we will perform Exploratory Data Analysis on dataset ‘Terrorism’. As a security/defense analyst we have to find the hot zone of terrorism.\n",
        "\n",
        "Steps to be followed :\n",
        "\n",
        "1. Importing the libraries\n",
        "2. Loading the dataset\n",
        "3. Data Preprocessing\n",
        "4. EDA\n",
        "5. Data Visualization\n",
        "Dataset: https://bit.ly/2TK5Xn5\n",
        "\n",
        "#### **Author : Mariam Loukili**\n",
        "## **Importing the libraries**"
      ],
      "metadata": {
        "id": "jwsRzBl7YgLM"
      }
    },
    {
      "cell_type": "code",
      "source": [
        "import pandas as pd\n",
        "import numpy as np\n",
        "import matplotlib.pyplot as plt\n",
        "import seaborn as sns"
      ],
      "metadata": {
        "id": "iwLsq_OuZygy"
      },
      "execution_count": 77,
      "outputs": []
    },
    {
      "cell_type": "markdown",
      "source": [
        "## **Loading the dataset**"
      ],
      "metadata": {
        "id": "7ZokO75Pacmd"
      }
    },
    {
      "cell_type": "code",
      "execution_count": 78,
      "metadata": {
        "colab": {
          "base_uri": "https://localhost:8080/",
          "height": 352
        },
        "id": "LK88Xrf0YYA0",
        "outputId": "e027d845-9834-4cee-dc26-1cf123d3157d"
      },
      "outputs": [
        {
          "output_type": "stream",
          "name": "stderr",
          "text": [
            "/usr/local/lib/python3.7/dist-packages/IPython/core/interactiveshell.py:2882: DtypeWarning: Columns (4,6,31,33,61,62,63,76,79,90,92,94,96,114,115,121) have mixed types.Specify dtype option on import or set low_memory=False.\n",
            "  exec(code_obj, self.user_global_ns, self.user_ns)\n"
          ]
        },
        {
          "output_type": "execute_result",
          "data": {
            "text/plain": [
              "        eventid  iyear  imonth  iday approxdate  extended resolution  country  \\\n",
              "0  197000000001   1970       7     2        NaN         0        NaN       58   \n",
              "1  197000000002   1970       0     0        NaN         0        NaN      130   \n",
              "2  197001000001   1970       1     0        NaN         0        NaN      160   \n",
              "3  197001000002   1970       1     0        NaN         0        NaN       78   \n",
              "4  197001000003   1970       1     0        NaN         0        NaN      101   \n",
              "\n",
              "          country_txt  region  ... addnotes scite1 scite2  scite3  dbsource  \\\n",
              "0  Dominican Republic       2  ...      NaN    NaN    NaN     NaN      PGIS   \n",
              "1              Mexico       1  ...      NaN    NaN    NaN     NaN      PGIS   \n",
              "2         Philippines       5  ...      NaN    NaN    NaN     NaN      PGIS   \n",
              "3              Greece       8  ...      NaN    NaN    NaN     NaN      PGIS   \n",
              "4               Japan       4  ...      NaN    NaN    NaN     NaN      PGIS   \n",
              "\n",
              "   INT_LOG  INT_IDEO INT_MISC INT_ANY  related  \n",
              "0        0         0        0       0      NaN  \n",
              "1        0         1        1       1      NaN  \n",
              "2       -9        -9        1       1      NaN  \n",
              "3       -9        -9        1       1      NaN  \n",
              "4       -9        -9        1       1      NaN  \n",
              "\n",
              "[5 rows x 135 columns]"
            ],
            "text/html": [
              "\n",
              "  <div id=\"df-e3829f82-672e-4bab-aa17-73eed327dc2b\">\n",
              "    <div class=\"colab-df-container\">\n",
              "      <div>\n",
              "<style scoped>\n",
              "    .dataframe tbody tr th:only-of-type {\n",
              "        vertical-align: middle;\n",
              "    }\n",
              "\n",
              "    .dataframe tbody tr th {\n",
              "        vertical-align: top;\n",
              "    }\n",
              "\n",
              "    .dataframe thead th {\n",
              "        text-align: right;\n",
              "    }\n",
              "</style>\n",
              "<table border=\"1\" class=\"dataframe\">\n",
              "  <thead>\n",
              "    <tr style=\"text-align: right;\">\n",
              "      <th></th>\n",
              "      <th>eventid</th>\n",
              "      <th>iyear</th>\n",
              "      <th>imonth</th>\n",
              "      <th>iday</th>\n",
              "      <th>approxdate</th>\n",
              "      <th>extended</th>\n",
              "      <th>resolution</th>\n",
              "      <th>country</th>\n",
              "      <th>country_txt</th>\n",
              "      <th>region</th>\n",
              "      <th>...</th>\n",
              "      <th>addnotes</th>\n",
              "      <th>scite1</th>\n",
              "      <th>scite2</th>\n",
              "      <th>scite3</th>\n",
              "      <th>dbsource</th>\n",
              "      <th>INT_LOG</th>\n",
              "      <th>INT_IDEO</th>\n",
              "      <th>INT_MISC</th>\n",
              "      <th>INT_ANY</th>\n",
              "      <th>related</th>\n",
              "    </tr>\n",
              "  </thead>\n",
              "  <tbody>\n",
              "    <tr>\n",
              "      <th>0</th>\n",
              "      <td>197000000001</td>\n",
              "      <td>1970</td>\n",
              "      <td>7</td>\n",
              "      <td>2</td>\n",
              "      <td>NaN</td>\n",
              "      <td>0</td>\n",
              "      <td>NaN</td>\n",
              "      <td>58</td>\n",
              "      <td>Dominican Republic</td>\n",
              "      <td>2</td>\n",
              "      <td>...</td>\n",
              "      <td>NaN</td>\n",
              "      <td>NaN</td>\n",
              "      <td>NaN</td>\n",
              "      <td>NaN</td>\n",
              "      <td>PGIS</td>\n",
              "      <td>0</td>\n",
              "      <td>0</td>\n",
              "      <td>0</td>\n",
              "      <td>0</td>\n",
              "      <td>NaN</td>\n",
              "    </tr>\n",
              "    <tr>\n",
              "      <th>1</th>\n",
              "      <td>197000000002</td>\n",
              "      <td>1970</td>\n",
              "      <td>0</td>\n",
              "      <td>0</td>\n",
              "      <td>NaN</td>\n",
              "      <td>0</td>\n",
              "      <td>NaN</td>\n",
              "      <td>130</td>\n",
              "      <td>Mexico</td>\n",
              "      <td>1</td>\n",
              "      <td>...</td>\n",
              "      <td>NaN</td>\n",
              "      <td>NaN</td>\n",
              "      <td>NaN</td>\n",
              "      <td>NaN</td>\n",
              "      <td>PGIS</td>\n",
              "      <td>0</td>\n",
              "      <td>1</td>\n",
              "      <td>1</td>\n",
              "      <td>1</td>\n",
              "      <td>NaN</td>\n",
              "    </tr>\n",
              "    <tr>\n",
              "      <th>2</th>\n",
              "      <td>197001000001</td>\n",
              "      <td>1970</td>\n",
              "      <td>1</td>\n",
              "      <td>0</td>\n",
              "      <td>NaN</td>\n",
              "      <td>0</td>\n",
              "      <td>NaN</td>\n",
              "      <td>160</td>\n",
              "      <td>Philippines</td>\n",
              "      <td>5</td>\n",
              "      <td>...</td>\n",
              "      <td>NaN</td>\n",
              "      <td>NaN</td>\n",
              "      <td>NaN</td>\n",
              "      <td>NaN</td>\n",
              "      <td>PGIS</td>\n",
              "      <td>-9</td>\n",
              "      <td>-9</td>\n",
              "      <td>1</td>\n",
              "      <td>1</td>\n",
              "      <td>NaN</td>\n",
              "    </tr>\n",
              "    <tr>\n",
              "      <th>3</th>\n",
              "      <td>197001000002</td>\n",
              "      <td>1970</td>\n",
              "      <td>1</td>\n",
              "      <td>0</td>\n",
              "      <td>NaN</td>\n",
              "      <td>0</td>\n",
              "      <td>NaN</td>\n",
              "      <td>78</td>\n",
              "      <td>Greece</td>\n",
              "      <td>8</td>\n",
              "      <td>...</td>\n",
              "      <td>NaN</td>\n",
              "      <td>NaN</td>\n",
              "      <td>NaN</td>\n",
              "      <td>NaN</td>\n",
              "      <td>PGIS</td>\n",
              "      <td>-9</td>\n",
              "      <td>-9</td>\n",
              "      <td>1</td>\n",
              "      <td>1</td>\n",
              "      <td>NaN</td>\n",
              "    </tr>\n",
              "    <tr>\n",
              "      <th>4</th>\n",
              "      <td>197001000003</td>\n",
              "      <td>1970</td>\n",
              "      <td>1</td>\n",
              "      <td>0</td>\n",
              "      <td>NaN</td>\n",
              "      <td>0</td>\n",
              "      <td>NaN</td>\n",
              "      <td>101</td>\n",
              "      <td>Japan</td>\n",
              "      <td>4</td>\n",
              "      <td>...</td>\n",
              "      <td>NaN</td>\n",
              "      <td>NaN</td>\n",
              "      <td>NaN</td>\n",
              "      <td>NaN</td>\n",
              "      <td>PGIS</td>\n",
              "      <td>-9</td>\n",
              "      <td>-9</td>\n",
              "      <td>1</td>\n",
              "      <td>1</td>\n",
              "      <td>NaN</td>\n",
              "    </tr>\n",
              "  </tbody>\n",
              "</table>\n",
              "<p>5 rows × 135 columns</p>\n",
              "</div>\n",
              "      <button class=\"colab-df-convert\" onclick=\"convertToInteractive('df-e3829f82-672e-4bab-aa17-73eed327dc2b')\"\n",
              "              title=\"Convert this dataframe to an interactive table.\"\n",
              "              style=\"display:none;\">\n",
              "        \n",
              "  <svg xmlns=\"http://www.w3.org/2000/svg\" height=\"24px\"viewBox=\"0 0 24 24\"\n",
              "       width=\"24px\">\n",
              "    <path d=\"M0 0h24v24H0V0z\" fill=\"none\"/>\n",
              "    <path d=\"M18.56 5.44l.94 2.06.94-2.06 2.06-.94-2.06-.94-.94-2.06-.94 2.06-2.06.94zm-11 1L8.5 8.5l.94-2.06 2.06-.94-2.06-.94L8.5 2.5l-.94 2.06-2.06.94zm10 10l.94 2.06.94-2.06 2.06-.94-2.06-.94-.94-2.06-.94 2.06-2.06.94z\"/><path d=\"M17.41 7.96l-1.37-1.37c-.4-.4-.92-.59-1.43-.59-.52 0-1.04.2-1.43.59L10.3 9.45l-7.72 7.72c-.78.78-.78 2.05 0 2.83L4 21.41c.39.39.9.59 1.41.59.51 0 1.02-.2 1.41-.59l7.78-7.78 2.81-2.81c.8-.78.8-2.07 0-2.86zM5.41 20L4 18.59l7.72-7.72 1.47 1.35L5.41 20z\"/>\n",
              "  </svg>\n",
              "      </button>\n",
              "      \n",
              "  <style>\n",
              "    .colab-df-container {\n",
              "      display:flex;\n",
              "      flex-wrap:wrap;\n",
              "      gap: 12px;\n",
              "    }\n",
              "\n",
              "    .colab-df-convert {\n",
              "      background-color: #E8F0FE;\n",
              "      border: none;\n",
              "      border-radius: 50%;\n",
              "      cursor: pointer;\n",
              "      display: none;\n",
              "      fill: #1967D2;\n",
              "      height: 32px;\n",
              "      padding: 0 0 0 0;\n",
              "      width: 32px;\n",
              "    }\n",
              "\n",
              "    .colab-df-convert:hover {\n",
              "      background-color: #E2EBFA;\n",
              "      box-shadow: 0px 1px 2px rgba(60, 64, 67, 0.3), 0px 1px 3px 1px rgba(60, 64, 67, 0.15);\n",
              "      fill: #174EA6;\n",
              "    }\n",
              "\n",
              "    [theme=dark] .colab-df-convert {\n",
              "      background-color: #3B4455;\n",
              "      fill: #D2E3FC;\n",
              "    }\n",
              "\n",
              "    [theme=dark] .colab-df-convert:hover {\n",
              "      background-color: #434B5C;\n",
              "      box-shadow: 0px 1px 3px 1px rgba(0, 0, 0, 0.15);\n",
              "      filter: drop-shadow(0px 1px 2px rgba(0, 0, 0, 0.3));\n",
              "      fill: #FFFFFF;\n",
              "    }\n",
              "  </style>\n",
              "\n",
              "      <script>\n",
              "        const buttonEl =\n",
              "          document.querySelector('#df-e3829f82-672e-4bab-aa17-73eed327dc2b button.colab-df-convert');\n",
              "        buttonEl.style.display =\n",
              "          google.colab.kernel.accessAllowed ? 'block' : 'none';\n",
              "\n",
              "        async function convertToInteractive(key) {\n",
              "          const element = document.querySelector('#df-e3829f82-672e-4bab-aa17-73eed327dc2b');\n",
              "          const dataTable =\n",
              "            await google.colab.kernel.invokeFunction('convertToInteractive',\n",
              "                                                     [key], {});\n",
              "          if (!dataTable) return;\n",
              "\n",
              "          const docLinkHtml = 'Like what you see? Visit the ' +\n",
              "            '<a target=\"_blank\" href=https://colab.research.google.com/notebooks/data_table.ipynb>data table notebook</a>'\n",
              "            + ' to learn more about interactive tables.';\n",
              "          element.innerHTML = '';\n",
              "          dataTable['output_type'] = 'display_data';\n",
              "          await google.colab.output.renderOutput(dataTable, element);\n",
              "          const docLink = document.createElement('div');\n",
              "          docLink.innerHTML = docLinkHtml;\n",
              "          element.appendChild(docLink);\n",
              "        }\n",
              "      </script>\n",
              "    </div>\n",
              "  </div>\n",
              "  "
            ]
          },
          "metadata": {},
          "execution_count": 78
        }
      ],
      "source": [
        "data = pd.read_csv(\"globalterrorism.csv\",encoding='latin1')\n",
        "data.head()"
      ]
    },
    {
      "cell_type": "code",
      "source": [
        "data.shape"
      ],
      "metadata": {
        "colab": {
          "base_uri": "https://localhost:8080/"
        },
        "id": "_Qe5nFGJg3-h",
        "outputId": "9fbe916d-ec34-4c74-d8e9-added62e396d"
      },
      "execution_count": 79,
      "outputs": [
        {
          "output_type": "execute_result",
          "data": {
            "text/plain": [
              "(181691, 135)"
            ]
          },
          "metadata": {},
          "execution_count": 79
        }
      ]
    },
    {
      "cell_type": "code",
      "source": [
        "data.columns.values"
      ],
      "metadata": {
        "colab": {
          "base_uri": "https://localhost:8080/"
        },
        "id": "sUuuGJyshGGG",
        "outputId": "3ad33923-c43a-4066-fe82-1c698cde9224"
      },
      "execution_count": 80,
      "outputs": [
        {
          "output_type": "execute_result",
          "data": {
            "text/plain": [
              "array(['eventid', 'iyear', 'imonth', 'iday', 'approxdate', 'extended',\n",
              "       'resolution', 'country', 'country_txt', 'region', 'region_txt',\n",
              "       'provstate', 'city', 'latitude', 'longitude', 'specificity',\n",
              "       'vicinity', 'location', 'summary', 'crit1', 'crit2', 'crit3',\n",
              "       'doubtterr', 'alternative', 'alternative_txt', 'multiple',\n",
              "       'success', 'suicide', 'attacktype1', 'attacktype1_txt',\n",
              "       'attacktype2', 'attacktype2_txt', 'attacktype3', 'attacktype3_txt',\n",
              "       'targtype1', 'targtype1_txt', 'targsubtype1', 'targsubtype1_txt',\n",
              "       'corp1', 'target1', 'natlty1', 'natlty1_txt', 'targtype2',\n",
              "       'targtype2_txt', 'targsubtype2', 'targsubtype2_txt', 'corp2',\n",
              "       'target2', 'natlty2', 'natlty2_txt', 'targtype3', 'targtype3_txt',\n",
              "       'targsubtype3', 'targsubtype3_txt', 'corp3', 'target3', 'natlty3',\n",
              "       'natlty3_txt', 'gname', 'gsubname', 'gname2', 'gsubname2',\n",
              "       'gname3', 'gsubname3', 'motive', 'guncertain1', 'guncertain2',\n",
              "       'guncertain3', 'individual', 'nperps', 'nperpcap', 'claimed',\n",
              "       'claimmode', 'claimmode_txt', 'claim2', 'claimmode2',\n",
              "       'claimmode2_txt', 'claim3', 'claimmode3', 'claimmode3_txt',\n",
              "       'compclaim', 'weaptype1', 'weaptype1_txt', 'weapsubtype1',\n",
              "       'weapsubtype1_txt', 'weaptype2', 'weaptype2_txt', 'weapsubtype2',\n",
              "       'weapsubtype2_txt', 'weaptype3', 'weaptype3_txt', 'weapsubtype3',\n",
              "       'weapsubtype3_txt', 'weaptype4', 'weaptype4_txt', 'weapsubtype4',\n",
              "       'weapsubtype4_txt', 'weapdetail', 'nkill', 'nkillus', 'nkillter',\n",
              "       'nwound', 'nwoundus', 'nwoundte', 'property', 'propextent',\n",
              "       'propextent_txt', 'propvalue', 'propcomment', 'ishostkid',\n",
              "       'nhostkid', 'nhostkidus', 'nhours', 'ndays', 'divert',\n",
              "       'kidhijcountry', 'ransom', 'ransomamt', 'ransomamtus',\n",
              "       'ransompaid', 'ransompaidus', 'ransomnote', 'hostkidoutcome',\n",
              "       'hostkidoutcome_txt', 'nreleased', 'addnotes', 'scite1', 'scite2',\n",
              "       'scite3', 'dbsource', 'INT_LOG', 'INT_IDEO', 'INT_MISC', 'INT_ANY',\n",
              "       'related'], dtype=object)"
            ]
          },
          "metadata": {},
          "execution_count": 80
        }
      ]
    },
    {
      "cell_type": "markdown",
      "source": [
        "## **Data Preprocessing**\n",
        "**Taking only wanted data so choosing the wanted column required for performing EDA**"
      ],
      "metadata": {
        "id": "3qT6AkTUasJ8"
      }
    },
    {
      "cell_type": "code",
      "source": [
        "usecols= [1, 2, 3, 5, 8, 10, 11, 12, 13, 14, 25, 26, 27, 29, 35, 58, 64, 71, 82, 98, 100, 101, 104, 106]\n",
        "renamescols = {'iyear':'Year','imonth':'Month','iday':\"Day\",'gname':'Group','country_txt':'Country','region_txt':'Region','provstate':'State','city':'City','latitude':'latitude',\n",
        "    'longitude':'longitude','summary':'summary','attacktype1_txt':'Attacktype','targtype1_txt':'Targettype','weaptype1_txt':'Weapon','nkill':'kill', 'nkillter':'killter',\n",
        "     'nwound':'Wound'}"
      ],
      "metadata": {
        "id": "EK4gfhR3ahpZ"
      },
      "execution_count": 81,
      "outputs": []
    },
    {
      "cell_type": "markdown",
      "source": [
        "**Reading the dataset**"
      ],
      "metadata": {
        "id": "g6KfRsDCHg89"
      }
    },
    {
      "cell_type": "code",
      "source": [
        "df = pd.read_csv('globalterrorism.csv',encoding= 'ISO-8859-1', usecols=usecols)\n",
        "df.rename(columns=renamescols, inplace =True)\n",
        "print('Data read Successfully')"
      ],
      "metadata": {
        "colab": {
          "base_uri": "https://localhost:8080/"
        },
        "id": "BMVG01ckhCRC",
        "outputId": "227b0cc5-a17c-4fa1-cbf7-f49e75dc8224"
      },
      "execution_count": 82,
      "outputs": [
        {
          "output_type": "stream",
          "name": "stdout",
          "text": [
            "Data read Successfully\n"
          ]
        }
      ]
    },
    {
      "cell_type": "code",
      "source": [
        "df.head()"
      ],
      "metadata": {
        "colab": {
          "base_uri": "https://localhost:8080/",
          "height": 456
        },
        "id": "4CEezGGFiDBz",
        "outputId": "1a290f7f-a04f-497c-d758-7040bf465844"
      },
      "execution_count": 83,
      "outputs": [
        {
          "output_type": "execute_result",
          "data": {
            "text/plain": [
              "   Year  Month  Day  extended             Country  \\\n",
              "0  1970      7    2         0  Dominican Republic   \n",
              "1  1970      0    0         0              Mexico   \n",
              "2  1970      1    0         0         Philippines   \n",
              "3  1970      1    0         0              Greece   \n",
              "4  1970      1    0         0               Japan   \n",
              "\n",
              "                        Region    State           City   latitude   longitude  \\\n",
              "0  Central America & Caribbean      NaN  Santo Domingo  18.456792  -69.951164   \n",
              "1                North America  Federal    Mexico city  19.371887  -99.086624   \n",
              "2               Southeast Asia   Tarlac        Unknown  15.478598  120.599741   \n",
              "3               Western Europe   Attica         Athens  37.997490   23.762728   \n",
              "4                    East Asia  Fukouka        Fukouka  33.580412  130.396361   \n",
              "\n",
              "   ...                   Targettype                               Group  \\\n",
              "0  ...  Private Citizens & Property                              MANO-D   \n",
              "1  ...      Government (Diplomatic)  23rd of September Communist League   \n",
              "2  ...          Journalists & Media                             Unknown   \n",
              "3  ...      Government (Diplomatic)                             Unknown   \n",
              "4  ...      Government (Diplomatic)                             Unknown   \n",
              "\n",
              "   motive claimed      Weapon kill killter  Wound property  propextent_txt  \n",
              "0     NaN     NaN     Unknown  1.0     NaN    0.0        0             NaN  \n",
              "1     NaN     NaN     Unknown  0.0     NaN    0.0        0             NaN  \n",
              "2     NaN     NaN     Unknown  1.0     NaN    0.0        0             NaN  \n",
              "3     NaN     NaN  Explosives  NaN     NaN    NaN        1             NaN  \n",
              "4     NaN     NaN  Incendiary  NaN     NaN    NaN        1             NaN  \n",
              "\n",
              "[5 rows x 24 columns]"
            ],
            "text/html": [
              "\n",
              "  <div id=\"df-9b108018-0007-47b2-a159-8e3022f41856\">\n",
              "    <div class=\"colab-df-container\">\n",
              "      <div>\n",
              "<style scoped>\n",
              "    .dataframe tbody tr th:only-of-type {\n",
              "        vertical-align: middle;\n",
              "    }\n",
              "\n",
              "    .dataframe tbody tr th {\n",
              "        vertical-align: top;\n",
              "    }\n",
              "\n",
              "    .dataframe thead th {\n",
              "        text-align: right;\n",
              "    }\n",
              "</style>\n",
              "<table border=\"1\" class=\"dataframe\">\n",
              "  <thead>\n",
              "    <tr style=\"text-align: right;\">\n",
              "      <th></th>\n",
              "      <th>Year</th>\n",
              "      <th>Month</th>\n",
              "      <th>Day</th>\n",
              "      <th>extended</th>\n",
              "      <th>Country</th>\n",
              "      <th>Region</th>\n",
              "      <th>State</th>\n",
              "      <th>City</th>\n",
              "      <th>latitude</th>\n",
              "      <th>longitude</th>\n",
              "      <th>...</th>\n",
              "      <th>Targettype</th>\n",
              "      <th>Group</th>\n",
              "      <th>motive</th>\n",
              "      <th>claimed</th>\n",
              "      <th>Weapon</th>\n",
              "      <th>kill</th>\n",
              "      <th>killter</th>\n",
              "      <th>Wound</th>\n",
              "      <th>property</th>\n",
              "      <th>propextent_txt</th>\n",
              "    </tr>\n",
              "  </thead>\n",
              "  <tbody>\n",
              "    <tr>\n",
              "      <th>0</th>\n",
              "      <td>1970</td>\n",
              "      <td>7</td>\n",
              "      <td>2</td>\n",
              "      <td>0</td>\n",
              "      <td>Dominican Republic</td>\n",
              "      <td>Central America &amp; Caribbean</td>\n",
              "      <td>NaN</td>\n",
              "      <td>Santo Domingo</td>\n",
              "      <td>18.456792</td>\n",
              "      <td>-69.951164</td>\n",
              "      <td>...</td>\n",
              "      <td>Private Citizens &amp; Property</td>\n",
              "      <td>MANO-D</td>\n",
              "      <td>NaN</td>\n",
              "      <td>NaN</td>\n",
              "      <td>Unknown</td>\n",
              "      <td>1.0</td>\n",
              "      <td>NaN</td>\n",
              "      <td>0.0</td>\n",
              "      <td>0</td>\n",
              "      <td>NaN</td>\n",
              "    </tr>\n",
              "    <tr>\n",
              "      <th>1</th>\n",
              "      <td>1970</td>\n",
              "      <td>0</td>\n",
              "      <td>0</td>\n",
              "      <td>0</td>\n",
              "      <td>Mexico</td>\n",
              "      <td>North America</td>\n",
              "      <td>Federal</td>\n",
              "      <td>Mexico city</td>\n",
              "      <td>19.371887</td>\n",
              "      <td>-99.086624</td>\n",
              "      <td>...</td>\n",
              "      <td>Government (Diplomatic)</td>\n",
              "      <td>23rd of September Communist League</td>\n",
              "      <td>NaN</td>\n",
              "      <td>NaN</td>\n",
              "      <td>Unknown</td>\n",
              "      <td>0.0</td>\n",
              "      <td>NaN</td>\n",
              "      <td>0.0</td>\n",
              "      <td>0</td>\n",
              "      <td>NaN</td>\n",
              "    </tr>\n",
              "    <tr>\n",
              "      <th>2</th>\n",
              "      <td>1970</td>\n",
              "      <td>1</td>\n",
              "      <td>0</td>\n",
              "      <td>0</td>\n",
              "      <td>Philippines</td>\n",
              "      <td>Southeast Asia</td>\n",
              "      <td>Tarlac</td>\n",
              "      <td>Unknown</td>\n",
              "      <td>15.478598</td>\n",
              "      <td>120.599741</td>\n",
              "      <td>...</td>\n",
              "      <td>Journalists &amp; Media</td>\n",
              "      <td>Unknown</td>\n",
              "      <td>NaN</td>\n",
              "      <td>NaN</td>\n",
              "      <td>Unknown</td>\n",
              "      <td>1.0</td>\n",
              "      <td>NaN</td>\n",
              "      <td>0.0</td>\n",
              "      <td>0</td>\n",
              "      <td>NaN</td>\n",
              "    </tr>\n",
              "    <tr>\n",
              "      <th>3</th>\n",
              "      <td>1970</td>\n",
              "      <td>1</td>\n",
              "      <td>0</td>\n",
              "      <td>0</td>\n",
              "      <td>Greece</td>\n",
              "      <td>Western Europe</td>\n",
              "      <td>Attica</td>\n",
              "      <td>Athens</td>\n",
              "      <td>37.997490</td>\n",
              "      <td>23.762728</td>\n",
              "      <td>...</td>\n",
              "      <td>Government (Diplomatic)</td>\n",
              "      <td>Unknown</td>\n",
              "      <td>NaN</td>\n",
              "      <td>NaN</td>\n",
              "      <td>Explosives</td>\n",
              "      <td>NaN</td>\n",
              "      <td>NaN</td>\n",
              "      <td>NaN</td>\n",
              "      <td>1</td>\n",
              "      <td>NaN</td>\n",
              "    </tr>\n",
              "    <tr>\n",
              "      <th>4</th>\n",
              "      <td>1970</td>\n",
              "      <td>1</td>\n",
              "      <td>0</td>\n",
              "      <td>0</td>\n",
              "      <td>Japan</td>\n",
              "      <td>East Asia</td>\n",
              "      <td>Fukouka</td>\n",
              "      <td>Fukouka</td>\n",
              "      <td>33.580412</td>\n",
              "      <td>130.396361</td>\n",
              "      <td>...</td>\n",
              "      <td>Government (Diplomatic)</td>\n",
              "      <td>Unknown</td>\n",
              "      <td>NaN</td>\n",
              "      <td>NaN</td>\n",
              "      <td>Incendiary</td>\n",
              "      <td>NaN</td>\n",
              "      <td>NaN</td>\n",
              "      <td>NaN</td>\n",
              "      <td>1</td>\n",
              "      <td>NaN</td>\n",
              "    </tr>\n",
              "  </tbody>\n",
              "</table>\n",
              "<p>5 rows × 24 columns</p>\n",
              "</div>\n",
              "      <button class=\"colab-df-convert\" onclick=\"convertToInteractive('df-9b108018-0007-47b2-a159-8e3022f41856')\"\n",
              "              title=\"Convert this dataframe to an interactive table.\"\n",
              "              style=\"display:none;\">\n",
              "        \n",
              "  <svg xmlns=\"http://www.w3.org/2000/svg\" height=\"24px\"viewBox=\"0 0 24 24\"\n",
              "       width=\"24px\">\n",
              "    <path d=\"M0 0h24v24H0V0z\" fill=\"none\"/>\n",
              "    <path d=\"M18.56 5.44l.94 2.06.94-2.06 2.06-.94-2.06-.94-.94-2.06-.94 2.06-2.06.94zm-11 1L8.5 8.5l.94-2.06 2.06-.94-2.06-.94L8.5 2.5l-.94 2.06-2.06.94zm10 10l.94 2.06.94-2.06 2.06-.94-2.06-.94-.94-2.06-.94 2.06-2.06.94z\"/><path d=\"M17.41 7.96l-1.37-1.37c-.4-.4-.92-.59-1.43-.59-.52 0-1.04.2-1.43.59L10.3 9.45l-7.72 7.72c-.78.78-.78 2.05 0 2.83L4 21.41c.39.39.9.59 1.41.59.51 0 1.02-.2 1.41-.59l7.78-7.78 2.81-2.81c.8-.78.8-2.07 0-2.86zM5.41 20L4 18.59l7.72-7.72 1.47 1.35L5.41 20z\"/>\n",
              "  </svg>\n",
              "      </button>\n",
              "      \n",
              "  <style>\n",
              "    .colab-df-container {\n",
              "      display:flex;\n",
              "      flex-wrap:wrap;\n",
              "      gap: 12px;\n",
              "    }\n",
              "\n",
              "    .colab-df-convert {\n",
              "      background-color: #E8F0FE;\n",
              "      border: none;\n",
              "      border-radius: 50%;\n",
              "      cursor: pointer;\n",
              "      display: none;\n",
              "      fill: #1967D2;\n",
              "      height: 32px;\n",
              "      padding: 0 0 0 0;\n",
              "      width: 32px;\n",
              "    }\n",
              "\n",
              "    .colab-df-convert:hover {\n",
              "      background-color: #E2EBFA;\n",
              "      box-shadow: 0px 1px 2px rgba(60, 64, 67, 0.3), 0px 1px 3px 1px rgba(60, 64, 67, 0.15);\n",
              "      fill: #174EA6;\n",
              "    }\n",
              "\n",
              "    [theme=dark] .colab-df-convert {\n",
              "      background-color: #3B4455;\n",
              "      fill: #D2E3FC;\n",
              "    }\n",
              "\n",
              "    [theme=dark] .colab-df-convert:hover {\n",
              "      background-color: #434B5C;\n",
              "      box-shadow: 0px 1px 3px 1px rgba(0, 0, 0, 0.15);\n",
              "      filter: drop-shadow(0px 1px 2px rgba(0, 0, 0, 0.3));\n",
              "      fill: #FFFFFF;\n",
              "    }\n",
              "  </style>\n",
              "\n",
              "      <script>\n",
              "        const buttonEl =\n",
              "          document.querySelector('#df-9b108018-0007-47b2-a159-8e3022f41856 button.colab-df-convert');\n",
              "        buttonEl.style.display =\n",
              "          google.colab.kernel.accessAllowed ? 'block' : 'none';\n",
              "\n",
              "        async function convertToInteractive(key) {\n",
              "          const element = document.querySelector('#df-9b108018-0007-47b2-a159-8e3022f41856');\n",
              "          const dataTable =\n",
              "            await google.colab.kernel.invokeFunction('convertToInteractive',\n",
              "                                                     [key], {});\n",
              "          if (!dataTable) return;\n",
              "\n",
              "          const docLinkHtml = 'Like what you see? Visit the ' +\n",
              "            '<a target=\"_blank\" href=https://colab.research.google.com/notebooks/data_table.ipynb>data table notebook</a>'\n",
              "            + ' to learn more about interactive tables.';\n",
              "          element.innerHTML = '';\n",
              "          dataTable['output_type'] = 'display_data';\n",
              "          await google.colab.output.renderOutput(dataTable, element);\n",
              "          const docLink = document.createElement('div');\n",
              "          docLink.innerHTML = docLinkHtml;\n",
              "          element.appendChild(docLink);\n",
              "        }\n",
              "      </script>\n",
              "    </div>\n",
              "  </div>\n",
              "  "
            ]
          },
          "metadata": {},
          "execution_count": 83
        }
      ]
    },
    {
      "cell_type": "markdown",
      "source": [
        "**Number of Duplicate Values in the dataset**"
      ],
      "metadata": {
        "id": "B7A_96EAHubs"
      }
    },
    {
      "cell_type": "code",
      "source": [
        "df.duplicated().sum()"
      ],
      "metadata": {
        "colab": {
          "base_uri": "https://localhost:8080/"
        },
        "id": "JKeTRn3wiJoD",
        "outputId": "20771e60-00a5-45b4-b8b5-aafe990ef1f0"
      },
      "execution_count": 36,
      "outputs": [
        {
          "output_type": "execute_result",
          "data": {
            "text/plain": [
              "12795"
            ]
          },
          "metadata": {},
          "execution_count": 36
        }
      ]
    },
    {
      "cell_type": "markdown",
      "source": [
        "**Removal of Duplicated rows**"
      ],
      "metadata": {
        "id": "1RtncEIlH1hh"
      }
    },
    {
      "cell_type": "code",
      "source": [
        "df.drop_duplicates(inplace=True)"
      ],
      "metadata": {
        "id": "-5xAiHPs2QGn"
      },
      "execution_count": 37,
      "outputs": []
    },
    {
      "cell_type": "markdown",
      "source": [
        "**Checking Null Values in the dataset**"
      ],
      "metadata": {
        "id": "8zo3aoblH8on"
      }
    },
    {
      "cell_type": "code",
      "source": [
        "df.isnull().sum()"
      ],
      "metadata": {
        "colab": {
          "base_uri": "https://localhost:8080/"
        },
        "id": "nmpEeq4d7jXC",
        "outputId": "6edfd552-050c-4cc2-823c-6e83c7693ab2"
      },
      "execution_count": 38,
      "outputs": [
        {
          "output_type": "execute_result",
          "data": {
            "text/plain": [
              "Year                   0\n",
              "Month                  0\n",
              "Day                    0\n",
              "extended               0\n",
              "Country                0\n",
              "Region                 0\n",
              "State                421\n",
              "City                 427\n",
              "latitude            3983\n",
              "longitude           3984\n",
              "multiple               1\n",
              "success                0\n",
              "suicide                0\n",
              "Attacktype             0\n",
              "Targettype             0\n",
              "Group                  0\n",
              "motive            119932\n",
              "claimed            57725\n",
              "Weapon                 0\n",
              "kill                9126\n",
              "kilter             58516\n",
              "Wound              14876\n",
              "property               0\n",
              "propextent_txt    110173\n",
              "dtype: int64"
            ]
          },
          "metadata": {},
          "execution_count": 38
        }
      ]
    },
    {
      "cell_type": "code",
      "source": [
        "df.fillna(0, inplace =True)"
      ],
      "metadata": {
        "id": "ytjKLLsG8HTT"
      },
      "execution_count": 41,
      "outputs": []
    },
    {
      "cell_type": "code",
      "source": [
        "df.isnull().sum()"
      ],
      "metadata": {
        "colab": {
          "base_uri": "https://localhost:8080/"
        },
        "id": "rFKOQRNx8PEE",
        "outputId": "662a9cfc-0a4c-4e77-c8b3-fd577d8942d7"
      },
      "execution_count": 42,
      "outputs": [
        {
          "output_type": "execute_result",
          "data": {
            "text/plain": [
              "Year              0\n",
              "Month             0\n",
              "Day               0\n",
              "extended          0\n",
              "Country           0\n",
              "Region            0\n",
              "State             0\n",
              "City              0\n",
              "latitude          0\n",
              "longitude         0\n",
              "multiple          0\n",
              "success           0\n",
              "suicide           0\n",
              "Attacktype        0\n",
              "Targettype        0\n",
              "Group             0\n",
              "motive            0\n",
              "claimed           0\n",
              "Weapon            0\n",
              "kill              0\n",
              "kilter            0\n",
              "Wound             0\n",
              "property          0\n",
              "propextent_txt    0\n",
              "dtype: int64"
            ]
          },
          "metadata": {},
          "execution_count": 42
        }
      ]
    },
    {
      "cell_type": "markdown",
      "source": [
        "## **Exploratory Data Analysis (EDA)**\n",
        "**Checking out the number of columns with names**\n"
      ],
      "metadata": {
        "id": "l3fEGg54CCZo"
      }
    },
    {
      "cell_type": "code",
      "source": [
        "df.columns"
      ],
      "metadata": {
        "colab": {
          "base_uri": "https://localhost:8080/"
        },
        "id": "I-GPLW6X8Y_k",
        "outputId": "b9fd1e1b-370a-4008-a415-a91acac8a289"
      },
      "execution_count": 43,
      "outputs": [
        {
          "output_type": "execute_result",
          "data": {
            "text/plain": [
              "Index(['Year', 'Month', 'Day', 'extended', 'Country', 'Region', 'State',\n",
              "       'City', 'latitude', 'longitude', 'multiple', 'success', 'suicide',\n",
              "       'Attacktype', 'Targettype', 'Group', 'motive', 'claimed', 'Weapon',\n",
              "       'kill', 'kilter', 'Wound', 'property', 'propextent_txt'],\n",
              "      dtype='object')"
            ]
          },
          "metadata": {},
          "execution_count": 43
        }
      ]
    },
    {
      "cell_type": "markdown",
      "source": [
        "**Full Summary of Dataset**"
      ],
      "metadata": {
        "id": "9CHSkxgD9rKE"
      }
    },
    {
      "cell_type": "code",
      "source": [
        "# Checking data types\n",
        "df.dtypes"
      ],
      "metadata": {
        "colab": {
          "base_uri": "https://localhost:8080/"
        },
        "id": "Ci-vhngJ8mUO",
        "outputId": "2e498209-d16a-420d-d6d1-a39ab674a540"
      },
      "execution_count": 44,
      "outputs": [
        {
          "output_type": "execute_result",
          "data": {
            "text/plain": [
              "Year                int64\n",
              "Month               int64\n",
              "Day                 int64\n",
              "extended            int64\n",
              "Country            object\n",
              "Region             object\n",
              "State              object\n",
              "City               object\n",
              "latitude          float64\n",
              "longitude         float64\n",
              "multiple          float64\n",
              "success             int64\n",
              "suicide             int64\n",
              "Attacktype         object\n",
              "Targettype         object\n",
              "Group              object\n",
              "motive             object\n",
              "claimed           float64\n",
              "Weapon             object\n",
              "kill              float64\n",
              "kilter            float64\n",
              "Wound             float64\n",
              "property            int64\n",
              "propextent_txt     object\n",
              "dtype: object"
            ]
          },
          "metadata": {},
          "execution_count": 44
        }
      ]
    },
    {
      "cell_type": "code",
      "source": [
        "# Get informations about the data, its type and number of columns\n",
        "df.info()"
      ],
      "metadata": {
        "colab": {
          "base_uri": "https://localhost:8080/"
        },
        "id": "IyJfy0bl8x25",
        "outputId": "2c786062-e3a6-4351-bdac-7f08075c5f5f"
      },
      "execution_count": 45,
      "outputs": [
        {
          "output_type": "stream",
          "name": "stdout",
          "text": [
            "<class 'pandas.core.frame.DataFrame'>\n",
            "Int64Index: 168896 entries, 0 to 181690\n",
            "Data columns (total 24 columns):\n",
            " #   Column          Non-Null Count   Dtype  \n",
            "---  ------          --------------   -----  \n",
            " 0   Year            168896 non-null  int64  \n",
            " 1   Month           168896 non-null  int64  \n",
            " 2   Day             168896 non-null  int64  \n",
            " 3   extended        168896 non-null  int64  \n",
            " 4   Country         168896 non-null  object \n",
            " 5   Region          168896 non-null  object \n",
            " 6   State           168896 non-null  object \n",
            " 7   City            168896 non-null  object \n",
            " 8   latitude        168896 non-null  float64\n",
            " 9   longitude       168896 non-null  float64\n",
            " 10  multiple        168896 non-null  float64\n",
            " 11  success         168896 non-null  int64  \n",
            " 12  suicide         168896 non-null  int64  \n",
            " 13  Attacktype      168896 non-null  object \n",
            " 14  Targettype      168896 non-null  object \n",
            " 15  Group           168896 non-null  object \n",
            " 16  motive          168896 non-null  object \n",
            " 17  claimed         168896 non-null  float64\n",
            " 18  Weapon          168896 non-null  object \n",
            " 19  kill            168896 non-null  float64\n",
            " 20  kilter          168896 non-null  float64\n",
            " 21  Wound           168896 non-null  float64\n",
            " 22  property        168896 non-null  int64  \n",
            " 23  propextent_txt  168896 non-null  object \n",
            "dtypes: float64(7), int64(7), object(10)\n",
            "memory usage: 32.2+ MB\n"
          ]
        }
      ]
    },
    {
      "cell_type": "markdown",
      "source": [
        "**Statistical Summary of Data**"
      ],
      "metadata": {
        "id": "GFvOzf9nBiHs"
      }
    },
    {
      "cell_type": "code",
      "source": [
        "# get description of all numerical data \n",
        "df.describe()"
      ],
      "metadata": {
        "colab": {
          "base_uri": "https://localhost:8080/",
          "height": 364
        },
        "id": "5EcscIht9Ozc",
        "outputId": "c5ee180c-d0d0-4d57-ab5a-831e070d4f60"
      },
      "execution_count": 47,
      "outputs": [
        {
          "output_type": "execute_result",
          "data": {
            "text/plain": [
              "                Year          Month            Day       extended  \\\n",
              "count  168896.000000  168896.000000  168896.000000  168896.000000   \n",
              "mean     2003.113407       6.468951      15.522120       0.047544   \n",
              "std        13.155780       3.391523       8.813591       0.212800   \n",
              "min      1970.000000       0.000000       0.000000       0.000000   \n",
              "25%      1991.000000       4.000000       8.000000       0.000000   \n",
              "50%      2009.000000       6.000000      15.000000       0.000000   \n",
              "75%      2014.000000       9.000000      23.000000       0.000000   \n",
              "max      2017.000000      12.000000      31.000000       1.000000   \n",
              "\n",
              "            latitude     longitude       multiple        success  \\\n",
              "count  168896.000000  1.688960e+05  168896.000000  168896.000000   \n",
              "mean       23.269961 -4.811530e+02       0.096699       0.888724   \n",
              "std        18.357780  2.097136e+05       0.295548       0.314474   \n",
              "min       -53.154613 -8.618590e+07       0.000000       0.000000   \n",
              "25%        10.286653  3.362891e+00       0.000000       1.000000   \n",
              "50%        31.250196  4.325563e+01       0.000000       1.000000   \n",
              "75%        34.526179  6.876744e+01       0.000000       1.000000   \n",
              "max        74.633553  1.793667e+02       1.000000       1.000000   \n",
              "\n",
              "             suicide        claimed           kill        kilter  \\\n",
              "count  168896.000000  168896.000000  168896.000000  168896.00000   \n",
              "mean        0.038675       0.030545       2.405001       0.34028   \n",
              "std         0.192819       0.895999      11.611824       3.46294   \n",
              "min         0.000000      -9.000000       0.000000       0.00000   \n",
              "25%         0.000000       0.000000       0.000000       0.00000   \n",
              "50%         0.000000       0.000000       0.000000       0.00000   \n",
              "75%         0.000000       0.000000       2.000000       0.00000   \n",
              "max         1.000000       1.000000    1570.000000     500.00000   \n",
              "\n",
              "               Wound       property  \n",
              "count  168896.000000  168896.000000  \n",
              "mean        3.059167      -0.603922  \n",
              "std        35.560982       3.167591  \n",
              "min         0.000000      -9.000000  \n",
              "25%         0.000000       0.000000  \n",
              "50%         0.000000       0.000000  \n",
              "75%         2.000000       1.000000  \n",
              "max      8191.000000       1.000000  "
            ],
            "text/html": [
              "\n",
              "  <div id=\"df-1f8e97f7-8a2a-4fc1-878b-22e7dbbd644c\">\n",
              "    <div class=\"colab-df-container\">\n",
              "      <div>\n",
              "<style scoped>\n",
              "    .dataframe tbody tr th:only-of-type {\n",
              "        vertical-align: middle;\n",
              "    }\n",
              "\n",
              "    .dataframe tbody tr th {\n",
              "        vertical-align: top;\n",
              "    }\n",
              "\n",
              "    .dataframe thead th {\n",
              "        text-align: right;\n",
              "    }\n",
              "</style>\n",
              "<table border=\"1\" class=\"dataframe\">\n",
              "  <thead>\n",
              "    <tr style=\"text-align: right;\">\n",
              "      <th></th>\n",
              "      <th>Year</th>\n",
              "      <th>Month</th>\n",
              "      <th>Day</th>\n",
              "      <th>extended</th>\n",
              "      <th>latitude</th>\n",
              "      <th>longitude</th>\n",
              "      <th>multiple</th>\n",
              "      <th>success</th>\n",
              "      <th>suicide</th>\n",
              "      <th>claimed</th>\n",
              "      <th>kill</th>\n",
              "      <th>kilter</th>\n",
              "      <th>Wound</th>\n",
              "      <th>property</th>\n",
              "    </tr>\n",
              "  </thead>\n",
              "  <tbody>\n",
              "    <tr>\n",
              "      <th>count</th>\n",
              "      <td>168896.000000</td>\n",
              "      <td>168896.000000</td>\n",
              "      <td>168896.000000</td>\n",
              "      <td>168896.000000</td>\n",
              "      <td>168896.000000</td>\n",
              "      <td>1.688960e+05</td>\n",
              "      <td>168896.000000</td>\n",
              "      <td>168896.000000</td>\n",
              "      <td>168896.000000</td>\n",
              "      <td>168896.000000</td>\n",
              "      <td>168896.000000</td>\n",
              "      <td>168896.00000</td>\n",
              "      <td>168896.000000</td>\n",
              "      <td>168896.000000</td>\n",
              "    </tr>\n",
              "    <tr>\n",
              "      <th>mean</th>\n",
              "      <td>2003.113407</td>\n",
              "      <td>6.468951</td>\n",
              "      <td>15.522120</td>\n",
              "      <td>0.047544</td>\n",
              "      <td>23.269961</td>\n",
              "      <td>-4.811530e+02</td>\n",
              "      <td>0.096699</td>\n",
              "      <td>0.888724</td>\n",
              "      <td>0.038675</td>\n",
              "      <td>0.030545</td>\n",
              "      <td>2.405001</td>\n",
              "      <td>0.34028</td>\n",
              "      <td>3.059167</td>\n",
              "      <td>-0.603922</td>\n",
              "    </tr>\n",
              "    <tr>\n",
              "      <th>std</th>\n",
              "      <td>13.155780</td>\n",
              "      <td>3.391523</td>\n",
              "      <td>8.813591</td>\n",
              "      <td>0.212800</td>\n",
              "      <td>18.357780</td>\n",
              "      <td>2.097136e+05</td>\n",
              "      <td>0.295548</td>\n",
              "      <td>0.314474</td>\n",
              "      <td>0.192819</td>\n",
              "      <td>0.895999</td>\n",
              "      <td>11.611824</td>\n",
              "      <td>3.46294</td>\n",
              "      <td>35.560982</td>\n",
              "      <td>3.167591</td>\n",
              "    </tr>\n",
              "    <tr>\n",
              "      <th>min</th>\n",
              "      <td>1970.000000</td>\n",
              "      <td>0.000000</td>\n",
              "      <td>0.000000</td>\n",
              "      <td>0.000000</td>\n",
              "      <td>-53.154613</td>\n",
              "      <td>-8.618590e+07</td>\n",
              "      <td>0.000000</td>\n",
              "      <td>0.000000</td>\n",
              "      <td>0.000000</td>\n",
              "      <td>-9.000000</td>\n",
              "      <td>0.000000</td>\n",
              "      <td>0.00000</td>\n",
              "      <td>0.000000</td>\n",
              "      <td>-9.000000</td>\n",
              "    </tr>\n",
              "    <tr>\n",
              "      <th>25%</th>\n",
              "      <td>1991.000000</td>\n",
              "      <td>4.000000</td>\n",
              "      <td>8.000000</td>\n",
              "      <td>0.000000</td>\n",
              "      <td>10.286653</td>\n",
              "      <td>3.362891e+00</td>\n",
              "      <td>0.000000</td>\n",
              "      <td>1.000000</td>\n",
              "      <td>0.000000</td>\n",
              "      <td>0.000000</td>\n",
              "      <td>0.000000</td>\n",
              "      <td>0.00000</td>\n",
              "      <td>0.000000</td>\n",
              "      <td>0.000000</td>\n",
              "    </tr>\n",
              "    <tr>\n",
              "      <th>50%</th>\n",
              "      <td>2009.000000</td>\n",
              "      <td>6.000000</td>\n",
              "      <td>15.000000</td>\n",
              "      <td>0.000000</td>\n",
              "      <td>31.250196</td>\n",
              "      <td>4.325563e+01</td>\n",
              "      <td>0.000000</td>\n",
              "      <td>1.000000</td>\n",
              "      <td>0.000000</td>\n",
              "      <td>0.000000</td>\n",
              "      <td>0.000000</td>\n",
              "      <td>0.00000</td>\n",
              "      <td>0.000000</td>\n",
              "      <td>0.000000</td>\n",
              "    </tr>\n",
              "    <tr>\n",
              "      <th>75%</th>\n",
              "      <td>2014.000000</td>\n",
              "      <td>9.000000</td>\n",
              "      <td>23.000000</td>\n",
              "      <td>0.000000</td>\n",
              "      <td>34.526179</td>\n",
              "      <td>6.876744e+01</td>\n",
              "      <td>0.000000</td>\n",
              "      <td>1.000000</td>\n",
              "      <td>0.000000</td>\n",
              "      <td>0.000000</td>\n",
              "      <td>2.000000</td>\n",
              "      <td>0.00000</td>\n",
              "      <td>2.000000</td>\n",
              "      <td>1.000000</td>\n",
              "    </tr>\n",
              "    <tr>\n",
              "      <th>max</th>\n",
              "      <td>2017.000000</td>\n",
              "      <td>12.000000</td>\n",
              "      <td>31.000000</td>\n",
              "      <td>1.000000</td>\n",
              "      <td>74.633553</td>\n",
              "      <td>1.793667e+02</td>\n",
              "      <td>1.000000</td>\n",
              "      <td>1.000000</td>\n",
              "      <td>1.000000</td>\n",
              "      <td>1.000000</td>\n",
              "      <td>1570.000000</td>\n",
              "      <td>500.00000</td>\n",
              "      <td>8191.000000</td>\n",
              "      <td>1.000000</td>\n",
              "    </tr>\n",
              "  </tbody>\n",
              "</table>\n",
              "</div>\n",
              "      <button class=\"colab-df-convert\" onclick=\"convertToInteractive('df-1f8e97f7-8a2a-4fc1-878b-22e7dbbd644c')\"\n",
              "              title=\"Convert this dataframe to an interactive table.\"\n",
              "              style=\"display:none;\">\n",
              "        \n",
              "  <svg xmlns=\"http://www.w3.org/2000/svg\" height=\"24px\"viewBox=\"0 0 24 24\"\n",
              "       width=\"24px\">\n",
              "    <path d=\"M0 0h24v24H0V0z\" fill=\"none\"/>\n",
              "    <path d=\"M18.56 5.44l.94 2.06.94-2.06 2.06-.94-2.06-.94-.94-2.06-.94 2.06-2.06.94zm-11 1L8.5 8.5l.94-2.06 2.06-.94-2.06-.94L8.5 2.5l-.94 2.06-2.06.94zm10 10l.94 2.06.94-2.06 2.06-.94-2.06-.94-.94-2.06-.94 2.06-2.06.94z\"/><path d=\"M17.41 7.96l-1.37-1.37c-.4-.4-.92-.59-1.43-.59-.52 0-1.04.2-1.43.59L10.3 9.45l-7.72 7.72c-.78.78-.78 2.05 0 2.83L4 21.41c.39.39.9.59 1.41.59.51 0 1.02-.2 1.41-.59l7.78-7.78 2.81-2.81c.8-.78.8-2.07 0-2.86zM5.41 20L4 18.59l7.72-7.72 1.47 1.35L5.41 20z\"/>\n",
              "  </svg>\n",
              "      </button>\n",
              "      \n",
              "  <style>\n",
              "    .colab-df-container {\n",
              "      display:flex;\n",
              "      flex-wrap:wrap;\n",
              "      gap: 12px;\n",
              "    }\n",
              "\n",
              "    .colab-df-convert {\n",
              "      background-color: #E8F0FE;\n",
              "      border: none;\n",
              "      border-radius: 50%;\n",
              "      cursor: pointer;\n",
              "      display: none;\n",
              "      fill: #1967D2;\n",
              "      height: 32px;\n",
              "      padding: 0 0 0 0;\n",
              "      width: 32px;\n",
              "    }\n",
              "\n",
              "    .colab-df-convert:hover {\n",
              "      background-color: #E2EBFA;\n",
              "      box-shadow: 0px 1px 2px rgba(60, 64, 67, 0.3), 0px 1px 3px 1px rgba(60, 64, 67, 0.15);\n",
              "      fill: #174EA6;\n",
              "    }\n",
              "\n",
              "    [theme=dark] .colab-df-convert {\n",
              "      background-color: #3B4455;\n",
              "      fill: #D2E3FC;\n",
              "    }\n",
              "\n",
              "    [theme=dark] .colab-df-convert:hover {\n",
              "      background-color: #434B5C;\n",
              "      box-shadow: 0px 1px 3px 1px rgba(0, 0, 0, 0.15);\n",
              "      filter: drop-shadow(0px 1px 2px rgba(0, 0, 0, 0.3));\n",
              "      fill: #FFFFFF;\n",
              "    }\n",
              "  </style>\n",
              "\n",
              "      <script>\n",
              "        const buttonEl =\n",
              "          document.querySelector('#df-1f8e97f7-8a2a-4fc1-878b-22e7dbbd644c button.colab-df-convert');\n",
              "        buttonEl.style.display =\n",
              "          google.colab.kernel.accessAllowed ? 'block' : 'none';\n",
              "\n",
              "        async function convertToInteractive(key) {\n",
              "          const element = document.querySelector('#df-1f8e97f7-8a2a-4fc1-878b-22e7dbbd644c');\n",
              "          const dataTable =\n",
              "            await google.colab.kernel.invokeFunction('convertToInteractive',\n",
              "                                                     [key], {});\n",
              "          if (!dataTable) return;\n",
              "\n",
              "          const docLinkHtml = 'Like what you see? Visit the ' +\n",
              "            '<a target=\"_blank\" href=https://colab.research.google.com/notebooks/data_table.ipynb>data table notebook</a>'\n",
              "            + ' to learn more about interactive tables.';\n",
              "          element.innerHTML = '';\n",
              "          dataTable['output_type'] = 'display_data';\n",
              "          await google.colab.output.renderOutput(dataTable, element);\n",
              "          const docLink = document.createElement('div');\n",
              "          docLink.innerHTML = docLinkHtml;\n",
              "          element.appendChild(docLink);\n",
              "        }\n",
              "      </script>\n",
              "    </div>\n",
              "  </div>\n",
              "  "
            ]
          },
          "metadata": {},
          "execution_count": 47
        }
      ]
    },
    {
      "cell_type": "markdown",
      "source": [
        "**Count number of distinct elements in each column**"
      ],
      "metadata": {
        "id": "Sm9XysHnIZXA"
      }
    },
    {
      "cell_type": "code",
      "source": [
        "df.nunique()"
      ],
      "metadata": {
        "colab": {
          "base_uri": "https://localhost:8080/"
        },
        "id": "whe6Wi74-hd1",
        "outputId": "12de6fc4-5d98-4880-aba2-800c807144cd"
      },
      "execution_count": 48,
      "outputs": [
        {
          "output_type": "execute_result",
          "data": {
            "text/plain": [
              "Year                 47\n",
              "Month                13\n",
              "Day                  32\n",
              "extended              2\n",
              "Country             205\n",
              "Region               12\n",
              "State              2856\n",
              "City              36675\n",
              "latitude          48323\n",
              "longitude         48040\n",
              "multiple              2\n",
              "success               2\n",
              "suicide               2\n",
              "Attacktype            9\n",
              "Targettype           22\n",
              "Group              3537\n",
              "motive            14491\n",
              "claimed               3\n",
              "Weapon               12\n",
              "kill                205\n",
              "kilter               96\n",
              "Wound               238\n",
              "property              3\n",
              "propextent_txt        5\n",
              "dtype: int64"
            ]
          },
          "metadata": {},
          "execution_count": 48
        }
      ]
    },
    {
      "cell_type": "markdown",
      "source": [
        "**Years in the Dataset**"
      ],
      "metadata": {
        "id": "u_E6fWKvIdDB"
      }
    },
    {
      "cell_type": "code",
      "source": [
        "df['Year'].unique()"
      ],
      "metadata": {
        "colab": {
          "base_uri": "https://localhost:8080/"
        },
        "id": "XyiI6-Q5_46s",
        "outputId": "3b19f5e5-a224-4055-e08a-f3f5fc4add7b"
      },
      "execution_count": 55,
      "outputs": [
        {
          "output_type": "execute_result",
          "data": {
            "text/plain": [
              "array([1970, 1971, 1972, 1973, 1974, 1975, 1976, 1977, 1978, 1979, 1980,\n",
              "       1981, 1986, 1982, 1983, 1984, 1985, 1987, 1988, 1989, 1990, 1991,\n",
              "       1992, 1994, 1995, 1996, 1997, 1998, 1999, 2000, 2001, 2002, 2003,\n",
              "       2004, 2005, 2006, 2007, 2008, 2009, 2010, 2011, 2012, 2013, 2014,\n",
              "       2015, 2016, 2017])"
            ]
          },
          "metadata": {},
          "execution_count": 55
        }
      ]
    },
    {
      "cell_type": "markdown",
      "source": [
        "**Counting of each year in the dataset**"
      ],
      "metadata": {
        "id": "bB3rwTyKIjvW"
      }
    },
    {
      "cell_type": "code",
      "source": [
        "df['Year'].value_counts()"
      ],
      "metadata": {
        "colab": {
          "base_uri": "https://localhost:8080/"
        },
        "id": "rYHv-RvI__3d",
        "outputId": "6fd2630e-f686-43e6-bed6-56cd2e7537a9"
      },
      "execution_count": 59,
      "outputs": [
        {
          "output_type": "execute_result",
          "data": {
            "text/plain": [
              "2014    16134\n",
              "2015    14258\n",
              "2016    12687\n",
              "2013    11624\n",
              "2017    10505\n",
              "2012     8270\n",
              "2011     4936\n",
              "2010     4699\n",
              "2008     4698\n",
              "2009     4660\n",
              "1992     4551\n",
              "1991     3969\n",
              "1989     3859\n",
              "1988     3360\n",
              "1990     3265\n",
              "2007     3171\n",
              "1994     3116\n",
              "1984     2967\n",
              "1997     2727\n",
              "2006     2724\n",
              "1983     2639\n",
              "1987     2557\n",
              "1996     2532\n",
              "1995     2481\n",
              "1981     2424\n",
              "1986     2395\n",
              "1980     2394\n",
              "1985     2383\n",
              "1982     2323\n",
              "1979     2308\n",
              "2005     1994\n",
              "2001     1867\n",
              "2000     1742\n",
              "1978     1419\n",
              "1999     1359\n",
              "2002     1300\n",
              "2003     1242\n",
              "1977     1195\n",
              "2004     1152\n",
              "1998      886\n",
              "1976      859\n",
              "1975      698\n",
              "1970      620\n",
              "1974      539\n",
              "1972      492\n",
              "1973      463\n",
              "1971      453\n",
              "Name: Year, dtype: int64"
            ]
          },
          "metadata": {},
          "execution_count": 59
        }
      ]
    },
    {
      "cell_type": "markdown",
      "source": [
        "**Total Count of Region in the Dataset**"
      ],
      "metadata": {
        "id": "O7eLxcUIIpkK"
      }
    },
    {
      "cell_type": "code",
      "source": [
        "df['Region'].value_counts()"
      ],
      "metadata": {
        "colab": {
          "base_uri": "https://localhost:8080/"
        },
        "id": "h3IjgachAUgI",
        "outputId": "fa71a387-610d-4598-a442-7285d29562a3"
      },
      "execution_count": 61,
      "outputs": [
        {
          "output_type": "execute_result",
          "data": {
            "text/plain": [
              "Middle East & North Africa     47772\n",
              "South Asia                     43071\n",
              "Sub-Saharan Africa             16844\n",
              "South America                  16018\n",
              "Western Europe                 14741\n",
              "Southeast Asia                 11906\n",
              "Central America & Caribbean     8844\n",
              "Eastern Europe                  4956\n",
              "North America                   3236\n",
              "East Asia                        687\n",
              "Central Asia                     549\n",
              "Australasia & Oceania            272\n",
              "Name: Region, dtype: int64"
            ]
          },
          "metadata": {},
          "execution_count": 61
        }
      ]
    },
    {
      "cell_type": "markdown",
      "source": [
        "**Total Count of Cities in the Dataset**"
      ],
      "metadata": {
        "id": "4iso7EtfI2Zk"
      }
    },
    {
      "cell_type": "code",
      "source": [
        "df['City'].value_counts()"
      ],
      "metadata": {
        "colab": {
          "base_uri": "https://localhost:8080/"
        },
        "id": "li9ZdME3Asgy",
        "outputId": "5540d761-aa72-46f3-aa73-ab020adf2533"
      },
      "execution_count": 64,
      "outputs": [
        {
          "output_type": "execute_result",
          "data": {
            "text/plain": [
              "Unknown     8035\n",
              "Baghdad     7397\n",
              "Karachi     2128\n",
              "Mosul       2051\n",
              "Belfast     1955\n",
              "            ... \n",
              "Malbase        1\n",
              "Tukovi         1\n",
              "Pa Ching       1\n",
              "Hpa-an         1\n",
              "Kubentog       1\n",
              "Name: City, Length: 36675, dtype: int64"
            ]
          },
          "metadata": {},
          "execution_count": 64
        }
      ]
    },
    {
      "cell_type": "markdown",
      "source": [
        "**Total Count of Attack type in the Dataset**"
      ],
      "metadata": {
        "id": "fUVsOKrqI6I-"
      }
    },
    {
      "cell_type": "code",
      "source": [
        "df['Attacktype'].value_counts()"
      ],
      "metadata": {
        "colab": {
          "base_uri": "https://localhost:8080/"
        },
        "id": "1M6pqLt_A3Qz",
        "outputId": "037c99c0-3e03-4d12-cb91-817738074553"
      },
      "execution_count": 68,
      "outputs": [
        {
          "output_type": "execute_result",
          "data": {
            "text/plain": [
              "Bombing/Explosion                      80022\n",
              "Armed Assault                          41051\n",
              "Assassination                          18657\n",
              "Hostage Taking (Kidnapping)            10873\n",
              "Facility/Infrastructure Attack          8953\n",
              "Unknown                                 6853\n",
              "Hostage Taking (Barricade Incident)      922\n",
              "Unarmed Assault                          916\n",
              "Hijacking                                649\n",
              "Name: Attacktype, dtype: int64"
            ]
          },
          "metadata": {},
          "execution_count": 68
        }
      ]
    },
    {
      "cell_type": "markdown",
      "source": [
        "**Total Counts of Target type in Dataset**"
      ],
      "metadata": {
        "id": "5ZbJ3WpAJEjh"
      }
    },
    {
      "cell_type": "code",
      "source": [
        "df['Targettype'].value_counts()"
      ],
      "metadata": {
        "colab": {
          "base_uri": "https://localhost:8080/"
        },
        "id": "FkV6COwcBAAp",
        "outputId": "de64f7d3-8723-4ae7-c678-27f5b450a661"
      },
      "execution_count": 70,
      "outputs": [
        {
          "output_type": "execute_result",
          "data": {
            "text/plain": [
              "Private Citizens & Property       40736\n",
              "Military                          27338\n",
              "Police                            23641\n",
              "Government (General)              20056\n",
              "Business                          18095\n",
              "Transportation                     6030\n",
              "Unknown                            5080\n",
              "Religious Figures/Institutions     4214\n",
              "Educational Institution            4045\n",
              "Utilities                          4036\n",
              "Government (Diplomatic)            3444\n",
              "Terrorists/Non-State Militia       2980\n",
              "Journalists & Media                2829\n",
              "Violent Political Party            1783\n",
              "Airports & Aircraft                1311\n",
              "NGO                                 950\n",
              "Telecommunication                   891\n",
              "Tourists                            427\n",
              "Maritime                            339\n",
              "Food or Water Supply                294\n",
              "Abortion Related                    246\n",
              "Other                               131\n",
              "Name: Targettype, dtype: int64"
            ]
          },
          "metadata": {},
          "execution_count": 70
        }
      ]
    },
    {
      "cell_type": "markdown",
      "source": [
        "**Correlation among the columns**\n",
        "\n",
        "Correlation is used to summarize the strength and direction of the linear association between two quantitative variables.\n",
        "\n",
        "Its values are between -1 and 1. A positive value for r indicates a positive association, and a negative value for r indicates a negative association"
      ],
      "metadata": {
        "id": "F4VOUwsmJIWT"
      }
    },
    {
      "cell_type": "code",
      "source": [
        "df.corr()"
      ],
      "metadata": {
        "colab": {
          "base_uri": "https://localhost:8080/",
          "height": 532
        },
        "id": "Rx94RA4hBTzF",
        "outputId": "9e208d04-8177-41ed-ab87-f6efbd713082"
      },
      "execution_count": 71,
      "outputs": [
        {
          "output_type": "execute_result",
          "data": {
            "text/plain": [
              "               Year     Month       Day  extended  latitude  longitude  \\\n",
              "Year       1.000000 -0.001473  0.018034  0.086163  0.168985   0.004051   \n",
              "Month     -0.001473  1.000000  0.005001 -0.001171 -0.012902  -0.003970   \n",
              "Day        0.018034  0.005001  1.000000 -0.003913  0.005082  -0.002338   \n",
              "extended   0.086163 -0.001171 -0.003913  1.000000 -0.034052   0.000551   \n",
              "latitude   0.168985 -0.012902  0.005082 -0.034052  1.000000   0.001474   \n",
              "longitude  0.004051 -0.003970 -0.002338  0.000551  0.001474   1.000000   \n",
              "multiple   0.163124 -0.002504  0.008519 -0.000329  0.007984   0.000812   \n",
              "success   -0.071430 -0.001435 -0.008821  0.075518 -0.069646  -0.000873   \n",
              "suicide    0.135268  0.003077  0.002911 -0.037021  0.071939   0.000505   \n",
              "claimed    0.074592  0.019275  0.004370  0.008065  0.020644   0.000087   \n",
              "kill       0.014553  0.003728 -0.003852  0.012265 -0.021064  -0.000544   \n",
              "kilter     0.071617  0.002373 -0.001200  0.010249  0.014329   0.000247   \n",
              "Wound      0.014842  0.003022 -0.001211 -0.011058  0.015787   0.000214   \n",
              "property  -0.268707 -0.005633 -0.002857  0.002868 -0.084681  -0.001275   \n",
              "\n",
              "           multiple   success   suicide   claimed      kill    kilter  \\\n",
              "Year       0.163124 -0.071430  0.135268  0.074592  0.014553  0.071617   \n",
              "Month     -0.002504 -0.001435  0.003077  0.019275  0.003728  0.002373   \n",
              "Day        0.008519 -0.008821  0.002911  0.004370 -0.003852 -0.001200   \n",
              "extended  -0.000329  0.075518 -0.037021  0.008065  0.012265  0.010249   \n",
              "latitude   0.007984 -0.069646  0.071939  0.020644 -0.021064  0.014329   \n",
              "longitude  0.000812 -0.000873  0.000505  0.000087 -0.000544  0.000247   \n",
              "multiple   1.000000  0.012509  0.056558  0.049528  0.020571  0.029391   \n",
              "success    0.012509  1.000000 -0.031261 -0.006029  0.051272 -0.021953   \n",
              "suicide    0.056558 -0.031261  1.000000  0.038263  0.133924  0.103723   \n",
              "claimed    0.049528 -0.006029  0.038263  1.000000  0.012805  0.028239   \n",
              "kill       0.020571  0.051272  0.133924  0.012805  1.000000  0.347872   \n",
              "kilter     0.029391 -0.021953  0.103723  0.028239  0.347872  1.000000   \n",
              "Wound      0.021493  0.024014  0.095276  0.005395  0.443273  0.027436   \n",
              "property  -0.062137 -0.041204 -0.069585  0.037122 -0.012994 -0.043694   \n",
              "\n",
              "              Wound  property  \n",
              "Year       0.014842 -0.268707  \n",
              "Month      0.003022 -0.005633  \n",
              "Day       -0.001211 -0.002857  \n",
              "extended  -0.011058  0.002868  \n",
              "latitude   0.015787 -0.084681  \n",
              "longitude  0.000214 -0.001275  \n",
              "multiple   0.021493 -0.062137  \n",
              "success    0.024014 -0.041204  \n",
              "suicide    0.095276 -0.069585  \n",
              "claimed    0.005395  0.037122  \n",
              "kill       0.443273 -0.012994  \n",
              "kilter     0.027436 -0.043694  \n",
              "Wound      1.000000 -0.010858  \n",
              "property  -0.010858  1.000000  "
            ],
            "text/html": [
              "\n",
              "  <div id=\"df-6db8e513-0bb6-443f-95a6-fa129177664f\">\n",
              "    <div class=\"colab-df-container\">\n",
              "      <div>\n",
              "<style scoped>\n",
              "    .dataframe tbody tr th:only-of-type {\n",
              "        vertical-align: middle;\n",
              "    }\n",
              "\n",
              "    .dataframe tbody tr th {\n",
              "        vertical-align: top;\n",
              "    }\n",
              "\n",
              "    .dataframe thead th {\n",
              "        text-align: right;\n",
              "    }\n",
              "</style>\n",
              "<table border=\"1\" class=\"dataframe\">\n",
              "  <thead>\n",
              "    <tr style=\"text-align: right;\">\n",
              "      <th></th>\n",
              "      <th>Year</th>\n",
              "      <th>Month</th>\n",
              "      <th>Day</th>\n",
              "      <th>extended</th>\n",
              "      <th>latitude</th>\n",
              "      <th>longitude</th>\n",
              "      <th>multiple</th>\n",
              "      <th>success</th>\n",
              "      <th>suicide</th>\n",
              "      <th>claimed</th>\n",
              "      <th>kill</th>\n",
              "      <th>kilter</th>\n",
              "      <th>Wound</th>\n",
              "      <th>property</th>\n",
              "    </tr>\n",
              "  </thead>\n",
              "  <tbody>\n",
              "    <tr>\n",
              "      <th>Year</th>\n",
              "      <td>1.000000</td>\n",
              "      <td>-0.001473</td>\n",
              "      <td>0.018034</td>\n",
              "      <td>0.086163</td>\n",
              "      <td>0.168985</td>\n",
              "      <td>0.004051</td>\n",
              "      <td>0.163124</td>\n",
              "      <td>-0.071430</td>\n",
              "      <td>0.135268</td>\n",
              "      <td>0.074592</td>\n",
              "      <td>0.014553</td>\n",
              "      <td>0.071617</td>\n",
              "      <td>0.014842</td>\n",
              "      <td>-0.268707</td>\n",
              "    </tr>\n",
              "    <tr>\n",
              "      <th>Month</th>\n",
              "      <td>-0.001473</td>\n",
              "      <td>1.000000</td>\n",
              "      <td>0.005001</td>\n",
              "      <td>-0.001171</td>\n",
              "      <td>-0.012902</td>\n",
              "      <td>-0.003970</td>\n",
              "      <td>-0.002504</td>\n",
              "      <td>-0.001435</td>\n",
              "      <td>0.003077</td>\n",
              "      <td>0.019275</td>\n",
              "      <td>0.003728</td>\n",
              "      <td>0.002373</td>\n",
              "      <td>0.003022</td>\n",
              "      <td>-0.005633</td>\n",
              "    </tr>\n",
              "    <tr>\n",
              "      <th>Day</th>\n",
              "      <td>0.018034</td>\n",
              "      <td>0.005001</td>\n",
              "      <td>1.000000</td>\n",
              "      <td>-0.003913</td>\n",
              "      <td>0.005082</td>\n",
              "      <td>-0.002338</td>\n",
              "      <td>0.008519</td>\n",
              "      <td>-0.008821</td>\n",
              "      <td>0.002911</td>\n",
              "      <td>0.004370</td>\n",
              "      <td>-0.003852</td>\n",
              "      <td>-0.001200</td>\n",
              "      <td>-0.001211</td>\n",
              "      <td>-0.002857</td>\n",
              "    </tr>\n",
              "    <tr>\n",
              "      <th>extended</th>\n",
              "      <td>0.086163</td>\n",
              "      <td>-0.001171</td>\n",
              "      <td>-0.003913</td>\n",
              "      <td>1.000000</td>\n",
              "      <td>-0.034052</td>\n",
              "      <td>0.000551</td>\n",
              "      <td>-0.000329</td>\n",
              "      <td>0.075518</td>\n",
              "      <td>-0.037021</td>\n",
              "      <td>0.008065</td>\n",
              "      <td>0.012265</td>\n",
              "      <td>0.010249</td>\n",
              "      <td>-0.011058</td>\n",
              "      <td>0.002868</td>\n",
              "    </tr>\n",
              "    <tr>\n",
              "      <th>latitude</th>\n",
              "      <td>0.168985</td>\n",
              "      <td>-0.012902</td>\n",
              "      <td>0.005082</td>\n",
              "      <td>-0.034052</td>\n",
              "      <td>1.000000</td>\n",
              "      <td>0.001474</td>\n",
              "      <td>0.007984</td>\n",
              "      <td>-0.069646</td>\n",
              "      <td>0.071939</td>\n",
              "      <td>0.020644</td>\n",
              "      <td>-0.021064</td>\n",
              "      <td>0.014329</td>\n",
              "      <td>0.015787</td>\n",
              "      <td>-0.084681</td>\n",
              "    </tr>\n",
              "    <tr>\n",
              "      <th>longitude</th>\n",
              "      <td>0.004051</td>\n",
              "      <td>-0.003970</td>\n",
              "      <td>-0.002338</td>\n",
              "      <td>0.000551</td>\n",
              "      <td>0.001474</td>\n",
              "      <td>1.000000</td>\n",
              "      <td>0.000812</td>\n",
              "      <td>-0.000873</td>\n",
              "      <td>0.000505</td>\n",
              "      <td>0.000087</td>\n",
              "      <td>-0.000544</td>\n",
              "      <td>0.000247</td>\n",
              "      <td>0.000214</td>\n",
              "      <td>-0.001275</td>\n",
              "    </tr>\n",
              "    <tr>\n",
              "      <th>multiple</th>\n",
              "      <td>0.163124</td>\n",
              "      <td>-0.002504</td>\n",
              "      <td>0.008519</td>\n",
              "      <td>-0.000329</td>\n",
              "      <td>0.007984</td>\n",
              "      <td>0.000812</td>\n",
              "      <td>1.000000</td>\n",
              "      <td>0.012509</td>\n",
              "      <td>0.056558</td>\n",
              "      <td>0.049528</td>\n",
              "      <td>0.020571</td>\n",
              "      <td>0.029391</td>\n",
              "      <td>0.021493</td>\n",
              "      <td>-0.062137</td>\n",
              "    </tr>\n",
              "    <tr>\n",
              "      <th>success</th>\n",
              "      <td>-0.071430</td>\n",
              "      <td>-0.001435</td>\n",
              "      <td>-0.008821</td>\n",
              "      <td>0.075518</td>\n",
              "      <td>-0.069646</td>\n",
              "      <td>-0.000873</td>\n",
              "      <td>0.012509</td>\n",
              "      <td>1.000000</td>\n",
              "      <td>-0.031261</td>\n",
              "      <td>-0.006029</td>\n",
              "      <td>0.051272</td>\n",
              "      <td>-0.021953</td>\n",
              "      <td>0.024014</td>\n",
              "      <td>-0.041204</td>\n",
              "    </tr>\n",
              "    <tr>\n",
              "      <th>suicide</th>\n",
              "      <td>0.135268</td>\n",
              "      <td>0.003077</td>\n",
              "      <td>0.002911</td>\n",
              "      <td>-0.037021</td>\n",
              "      <td>0.071939</td>\n",
              "      <td>0.000505</td>\n",
              "      <td>0.056558</td>\n",
              "      <td>-0.031261</td>\n",
              "      <td>1.000000</td>\n",
              "      <td>0.038263</td>\n",
              "      <td>0.133924</td>\n",
              "      <td>0.103723</td>\n",
              "      <td>0.095276</td>\n",
              "      <td>-0.069585</td>\n",
              "    </tr>\n",
              "    <tr>\n",
              "      <th>claimed</th>\n",
              "      <td>0.074592</td>\n",
              "      <td>0.019275</td>\n",
              "      <td>0.004370</td>\n",
              "      <td>0.008065</td>\n",
              "      <td>0.020644</td>\n",
              "      <td>0.000087</td>\n",
              "      <td>0.049528</td>\n",
              "      <td>-0.006029</td>\n",
              "      <td>0.038263</td>\n",
              "      <td>1.000000</td>\n",
              "      <td>0.012805</td>\n",
              "      <td>0.028239</td>\n",
              "      <td>0.005395</td>\n",
              "      <td>0.037122</td>\n",
              "    </tr>\n",
              "    <tr>\n",
              "      <th>kill</th>\n",
              "      <td>0.014553</td>\n",
              "      <td>0.003728</td>\n",
              "      <td>-0.003852</td>\n",
              "      <td>0.012265</td>\n",
              "      <td>-0.021064</td>\n",
              "      <td>-0.000544</td>\n",
              "      <td>0.020571</td>\n",
              "      <td>0.051272</td>\n",
              "      <td>0.133924</td>\n",
              "      <td>0.012805</td>\n",
              "      <td>1.000000</td>\n",
              "      <td>0.347872</td>\n",
              "      <td>0.443273</td>\n",
              "      <td>-0.012994</td>\n",
              "    </tr>\n",
              "    <tr>\n",
              "      <th>kilter</th>\n",
              "      <td>0.071617</td>\n",
              "      <td>0.002373</td>\n",
              "      <td>-0.001200</td>\n",
              "      <td>0.010249</td>\n",
              "      <td>0.014329</td>\n",
              "      <td>0.000247</td>\n",
              "      <td>0.029391</td>\n",
              "      <td>-0.021953</td>\n",
              "      <td>0.103723</td>\n",
              "      <td>0.028239</td>\n",
              "      <td>0.347872</td>\n",
              "      <td>1.000000</td>\n",
              "      <td>0.027436</td>\n",
              "      <td>-0.043694</td>\n",
              "    </tr>\n",
              "    <tr>\n",
              "      <th>Wound</th>\n",
              "      <td>0.014842</td>\n",
              "      <td>0.003022</td>\n",
              "      <td>-0.001211</td>\n",
              "      <td>-0.011058</td>\n",
              "      <td>0.015787</td>\n",
              "      <td>0.000214</td>\n",
              "      <td>0.021493</td>\n",
              "      <td>0.024014</td>\n",
              "      <td>0.095276</td>\n",
              "      <td>0.005395</td>\n",
              "      <td>0.443273</td>\n",
              "      <td>0.027436</td>\n",
              "      <td>1.000000</td>\n",
              "      <td>-0.010858</td>\n",
              "    </tr>\n",
              "    <tr>\n",
              "      <th>property</th>\n",
              "      <td>-0.268707</td>\n",
              "      <td>-0.005633</td>\n",
              "      <td>-0.002857</td>\n",
              "      <td>0.002868</td>\n",
              "      <td>-0.084681</td>\n",
              "      <td>-0.001275</td>\n",
              "      <td>-0.062137</td>\n",
              "      <td>-0.041204</td>\n",
              "      <td>-0.069585</td>\n",
              "      <td>0.037122</td>\n",
              "      <td>-0.012994</td>\n",
              "      <td>-0.043694</td>\n",
              "      <td>-0.010858</td>\n",
              "      <td>1.000000</td>\n",
              "    </tr>\n",
              "  </tbody>\n",
              "</table>\n",
              "</div>\n",
              "      <button class=\"colab-df-convert\" onclick=\"convertToInteractive('df-6db8e513-0bb6-443f-95a6-fa129177664f')\"\n",
              "              title=\"Convert this dataframe to an interactive table.\"\n",
              "              style=\"display:none;\">\n",
              "        \n",
              "  <svg xmlns=\"http://www.w3.org/2000/svg\" height=\"24px\"viewBox=\"0 0 24 24\"\n",
              "       width=\"24px\">\n",
              "    <path d=\"M0 0h24v24H0V0z\" fill=\"none\"/>\n",
              "    <path d=\"M18.56 5.44l.94 2.06.94-2.06 2.06-.94-2.06-.94-.94-2.06-.94 2.06-2.06.94zm-11 1L8.5 8.5l.94-2.06 2.06-.94-2.06-.94L8.5 2.5l-.94 2.06-2.06.94zm10 10l.94 2.06.94-2.06 2.06-.94-2.06-.94-.94-2.06-.94 2.06-2.06.94z\"/><path d=\"M17.41 7.96l-1.37-1.37c-.4-.4-.92-.59-1.43-.59-.52 0-1.04.2-1.43.59L10.3 9.45l-7.72 7.72c-.78.78-.78 2.05 0 2.83L4 21.41c.39.39.9.59 1.41.59.51 0 1.02-.2 1.41-.59l7.78-7.78 2.81-2.81c.8-.78.8-2.07 0-2.86zM5.41 20L4 18.59l7.72-7.72 1.47 1.35L5.41 20z\"/>\n",
              "  </svg>\n",
              "      </button>\n",
              "      \n",
              "  <style>\n",
              "    .colab-df-container {\n",
              "      display:flex;\n",
              "      flex-wrap:wrap;\n",
              "      gap: 12px;\n",
              "    }\n",
              "\n",
              "    .colab-df-convert {\n",
              "      background-color: #E8F0FE;\n",
              "      border: none;\n",
              "      border-radius: 50%;\n",
              "      cursor: pointer;\n",
              "      display: none;\n",
              "      fill: #1967D2;\n",
              "      height: 32px;\n",
              "      padding: 0 0 0 0;\n",
              "      width: 32px;\n",
              "    }\n",
              "\n",
              "    .colab-df-convert:hover {\n",
              "      background-color: #E2EBFA;\n",
              "      box-shadow: 0px 1px 2px rgba(60, 64, 67, 0.3), 0px 1px 3px 1px rgba(60, 64, 67, 0.15);\n",
              "      fill: #174EA6;\n",
              "    }\n",
              "\n",
              "    [theme=dark] .colab-df-convert {\n",
              "      background-color: #3B4455;\n",
              "      fill: #D2E3FC;\n",
              "    }\n",
              "\n",
              "    [theme=dark] .colab-df-convert:hover {\n",
              "      background-color: #434B5C;\n",
              "      box-shadow: 0px 1px 3px 1px rgba(0, 0, 0, 0.15);\n",
              "      filter: drop-shadow(0px 1px 2px rgba(0, 0, 0, 0.3));\n",
              "      fill: #FFFFFF;\n",
              "    }\n",
              "  </style>\n",
              "\n",
              "      <script>\n",
              "        const buttonEl =\n",
              "          document.querySelector('#df-6db8e513-0bb6-443f-95a6-fa129177664f button.colab-df-convert');\n",
              "        buttonEl.style.display =\n",
              "          google.colab.kernel.accessAllowed ? 'block' : 'none';\n",
              "\n",
              "        async function convertToInteractive(key) {\n",
              "          const element = document.querySelector('#df-6db8e513-0bb6-443f-95a6-fa129177664f');\n",
              "          const dataTable =\n",
              "            await google.colab.kernel.invokeFunction('convertToInteractive',\n",
              "                                                     [key], {});\n",
              "          if (!dataTable) return;\n",
              "\n",
              "          const docLinkHtml = 'Like what you see? Visit the ' +\n",
              "            '<a target=\"_blank\" href=https://colab.research.google.com/notebooks/data_table.ipynb>data table notebook</a>'\n",
              "            + ' to learn more about interactive tables.';\n",
              "          element.innerHTML = '';\n",
              "          dataTable['output_type'] = 'display_data';\n",
              "          await google.colab.output.renderOutput(dataTable, element);\n",
              "          const docLink = document.createElement('div');\n",
              "          docLink.innerHTML = docLinkHtml;\n",
              "          element.appendChild(docLink);\n",
              "        }\n",
              "      </script>\n",
              "    </div>\n",
              "  </div>\n",
              "  "
            ]
          },
          "metadata": {},
          "execution_count": 71
        }
      ]
    },
    {
      "cell_type": "markdown",
      "source": [
        "**Save the cleaned data into an excel file**"
      ],
      "metadata": {
        "id": "WEj8ujniE5ew"
      }
    },
    {
      "cell_type": "code",
      "source": [
        "df.to_excel('globalterrorism_final.xlsx', sheet_name='sheet1', index=False)\n",
        "print(\"File saved successfully\")"
      ],
      "metadata": {
        "colab": {
          "base_uri": "https://localhost:8080/"
        },
        "id": "iWLYrf8YFv3z",
        "outputId": "04bd5f58-5dbb-4e86-f380-95b3c0646425"
      },
      "execution_count": 76,
      "outputs": [
        {
          "output_type": "stream",
          "name": "stdout",
          "text": [
            "File saved successfully\n"
          ]
        }
      ]
    },
    {
      "cell_type": "markdown",
      "source": [
        "# **Visualizing the Data**\n",
        "In this step we will use Power BI to Visualize and interpret this data :D\n",
        "\n",
        "Go check out the Power BI Dashboard"
      ],
      "metadata": {
        "id": "4sxBQR4bEE1M"
      }
    }
  ]
}